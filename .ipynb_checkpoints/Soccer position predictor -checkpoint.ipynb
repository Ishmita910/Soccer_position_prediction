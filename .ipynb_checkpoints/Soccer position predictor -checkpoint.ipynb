{
 "cells": [
  {
   "cell_type": "markdown",
   "metadata": {},
   "source": [
    "## Soccer Position Predictor\n",
    "\n",
    "This project is set to analyze the best possible Machine Learning classifier that gives the maximum accuracy on the dataset and to further optimize the accuracy with reduced input parameters.\n",
    "\n",
    "The combination of qualities are passed as input to the classifier and then used to predict the players' position in a match that suits the player the best in a particular team formation. \n",
    "\n",
    "In this project we will learn:\n",
    "\n",
    "1)Fitting our large set of input parameters with Logistic Classifier and Neural Network.\n",
    "\n",
    "2)What efficienty did we obtain on taking large set of parameters as input.\n",
    "\n",
    "3)How much efficiency was improved while training our Classifiers with less number of input paratemers and classes.\n"
   ]
  },
  {
   "cell_type": "code",
   "execution_count": 2,
   "metadata": {
    "collapsed": true
   },
   "outputs": [],
   "source": [
    "import pandas as pd\n",
    "import numpy as np\n",
    "import matplotlib\n",
    "import matplotlib.pyplot as plt\n",
    "%matplotlib inline"
   ]
  },
  {
   "cell_type": "code",
   "execution_count": 3,
   "metadata": {
    "collapsed": true
   },
   "outputs": [],
   "source": [
    "df = pd.read_csv('FUT17Players.csv', header=0,delim_whitespace=False,na_values='?',index_col=None)\n"
   ]
  },
  {
   "cell_type": "code",
   "execution_count": 4,
   "metadata": {},
   "outputs": [
    {
     "data": {
      "text/html": [
       "<div>\n",
       "<style>\n",
       "    .dataframe thead tr:only-child th {\n",
       "        text-align: right;\n",
       "    }\n",
       "\n",
       "    .dataframe thead th {\n",
       "        text-align: left;\n",
       "    }\n",
       "\n",
       "    .dataframe tbody tr th {\n",
       "        vertical-align: top;\n",
       "    }\n",
       "</style>\n",
       "<table border=\"1\" class=\"dataframe\">\n",
       "  <thead>\n",
       "    <tr style=\"text-align: right;\">\n",
       "      <th></th>\n",
       "      <th>firstName</th>\n",
       "      <th>lastName</th>\n",
       "      <th>position</th>\n",
       "      <th>position_num</th>\n",
       "      <th>height</th>\n",
       "      <th>weight</th>\n",
       "      <th>acceleration</th>\n",
       "      <th>aggression</th>\n",
       "      <th>agility</th>\n",
       "      <th>balance</th>\n",
       "      <th>...</th>\n",
       "      <th>slidingtackle</th>\n",
       "      <th>sprintspeed</th>\n",
       "      <th>standingtackle</th>\n",
       "      <th>stamina</th>\n",
       "      <th>strength</th>\n",
       "      <th>vision</th>\n",
       "      <th>volleys</th>\n",
       "      <th>weakFoot</th>\n",
       "      <th>isGK</th>\n",
       "      <th>positionFull</th>\n",
       "    </tr>\n",
       "  </thead>\n",
       "  <tbody>\n",
       "    <tr>\n",
       "      <th>0</th>\n",
       "      <td>Edson</td>\n",
       "      <td>Arantes Nascimento</td>\n",
       "      <td>CF</td>\n",
       "      <td>1</td>\n",
       "      <td>174</td>\n",
       "      <td>70</td>\n",
       "      <td>95</td>\n",
       "      <td>55</td>\n",
       "      <td>94</td>\n",
       "      <td>94</td>\n",
       "      <td>...</td>\n",
       "      <td>42</td>\n",
       "      <td>95</td>\n",
       "      <td>46</td>\n",
       "      <td>88</td>\n",
       "      <td>71</td>\n",
       "      <td>96</td>\n",
       "      <td>90</td>\n",
       "      <td>4</td>\n",
       "      <td>0</td>\n",
       "      <td>Centre Forward</td>\n",
       "    </tr>\n",
       "    <tr>\n",
       "      <th>1</th>\n",
       "      <td>C. Ronaldo</td>\n",
       "      <td>dos Santos Aveiro</td>\n",
       "      <td>LW</td>\n",
       "      <td>2</td>\n",
       "      <td>185</td>\n",
       "      <td>80</td>\n",
       "      <td>91</td>\n",
       "      <td>63</td>\n",
       "      <td>90</td>\n",
       "      <td>63</td>\n",
       "      <td>...</td>\n",
       "      <td>23</td>\n",
       "      <td>92</td>\n",
       "      <td>31</td>\n",
       "      <td>92</td>\n",
       "      <td>80</td>\n",
       "      <td>85</td>\n",
       "      <td>88</td>\n",
       "      <td>4</td>\n",
       "      <td>0</td>\n",
       "      <td>Left Wing</td>\n",
       "    </tr>\n",
       "    <tr>\n",
       "      <th>2</th>\n",
       "      <td>Lionel</td>\n",
       "      <td>Messi</td>\n",
       "      <td>RW</td>\n",
       "      <td>3</td>\n",
       "      <td>170</td>\n",
       "      <td>72</td>\n",
       "      <td>92</td>\n",
       "      <td>48</td>\n",
       "      <td>90</td>\n",
       "      <td>95</td>\n",
       "      <td>...</td>\n",
       "      <td>26</td>\n",
       "      <td>87</td>\n",
       "      <td>28</td>\n",
       "      <td>74</td>\n",
       "      <td>59</td>\n",
       "      <td>90</td>\n",
       "      <td>85</td>\n",
       "      <td>4</td>\n",
       "      <td>0</td>\n",
       "      <td>Right Wing</td>\n",
       "    </tr>\n",
       "    <tr>\n",
       "      <th>3</th>\n",
       "      <td>Franz</td>\n",
       "      <td>Beckenbauer</td>\n",
       "      <td>CB</td>\n",
       "      <td>4</td>\n",
       "      <td>181</td>\n",
       "      <td>75</td>\n",
       "      <td>83</td>\n",
       "      <td>63</td>\n",
       "      <td>80</td>\n",
       "      <td>66</td>\n",
       "      <td>...</td>\n",
       "      <td>91</td>\n",
       "      <td>81</td>\n",
       "      <td>96</td>\n",
       "      <td>85</td>\n",
       "      <td>86</td>\n",
       "      <td>82</td>\n",
       "      <td>64</td>\n",
       "      <td>3</td>\n",
       "      <td>0</td>\n",
       "      <td>Centre Back</td>\n",
       "    </tr>\n",
       "    <tr>\n",
       "      <th>4</th>\n",
       "      <td>Paolo</td>\n",
       "      <td>Maldini</td>\n",
       "      <td>LB</td>\n",
       "      <td>5</td>\n",
       "      <td>187</td>\n",
       "      <td>85</td>\n",
       "      <td>87</td>\n",
       "      <td>66</td>\n",
       "      <td>65</td>\n",
       "      <td>69</td>\n",
       "      <td>...</td>\n",
       "      <td>94</td>\n",
       "      <td>85</td>\n",
       "      <td>96</td>\n",
       "      <td>84</td>\n",
       "      <td>84</td>\n",
       "      <td>68</td>\n",
       "      <td>65</td>\n",
       "      <td>4</td>\n",
       "      <td>0</td>\n",
       "      <td>Left Back</td>\n",
       "    </tr>\n",
       "    <tr>\n",
       "      <th>5</th>\n",
       "      <td>Franco</td>\n",
       "      <td>Baresi</td>\n",
       "      <td>CB</td>\n",
       "      <td>4</td>\n",
       "      <td>176</td>\n",
       "      <td>70</td>\n",
       "      <td>77</td>\n",
       "      <td>79</td>\n",
       "      <td>75</td>\n",
       "      <td>84</td>\n",
       "      <td>...</td>\n",
       "      <td>92</td>\n",
       "      <td>75</td>\n",
       "      <td>96</td>\n",
       "      <td>91</td>\n",
       "      <td>79</td>\n",
       "      <td>68</td>\n",
       "      <td>41</td>\n",
       "      <td>3</td>\n",
       "      <td>0</td>\n",
       "      <td>Centre Back</td>\n",
       "    </tr>\n",
       "  </tbody>\n",
       "</table>\n",
       "<p>6 rows × 45 columns</p>\n",
       "</div>"
      ],
      "text/plain": [
       "    firstName            lastName position  position_num  height  weight  \\\n",
       "0       Edson  Arantes Nascimento       CF             1     174      70   \n",
       "1  C. Ronaldo   dos Santos Aveiro       LW             2     185      80   \n",
       "2      Lionel               Messi       RW             3     170      72   \n",
       "3       Franz         Beckenbauer       CB             4     181      75   \n",
       "4       Paolo             Maldini       LB             5     187      85   \n",
       "5      Franco              Baresi       CB             4     176      70   \n",
       "\n",
       "   acceleration  aggression  agility  balance       ...        slidingtackle  \\\n",
       "0            95          55       94       94       ...                   42   \n",
       "1            91          63       90       63       ...                   23   \n",
       "2            92          48       90       95       ...                   26   \n",
       "3            83          63       80       66       ...                   91   \n",
       "4            87          66       65       69       ...                   94   \n",
       "5            77          79       75       84       ...                   92   \n",
       "\n",
       "  sprintspeed  standingtackle  stamina  strength  vision  volleys  weakFoot  \\\n",
       "0          95              46       88        71      96       90         4   \n",
       "1          92              31       92        80      85       88         4   \n",
       "2          87              28       74        59      90       85         4   \n",
       "3          81              96       85        86      82       64         3   \n",
       "4          85              96       84        84      68       65         4   \n",
       "5          75              96       91        79      68       41         3   \n",
       "\n",
       "   isGK    positionFull  \n",
       "0     0  Centre Forward  \n",
       "1     0       Left Wing  \n",
       "2     0      Right Wing  \n",
       "3     0     Centre Back  \n",
       "4     0       Left Back  \n",
       "5     0     Centre Back  \n",
       "\n",
       "[6 rows x 45 columns]"
      ]
     },
     "execution_count": 4,
     "metadata": {},
     "output_type": "execute_result"
    }
   ],
   "source": [
    "df.head(6)"
   ]
  },
  {
   "cell_type": "code",
   "execution_count": 5,
   "metadata": {},
   "outputs": [
    {
     "data": {
      "text/plain": [
       "Index(['firstName', 'lastName', 'position', 'position_num', 'height', 'weight',\n",
       "       'acceleration', 'aggression', 'agility', 'balance', 'ballcontrol',\n",
       "       'foot', 'skillMoves', 'crossing', 'curve', 'dribbling', 'finishing',\n",
       "       'freekickaccuracy', 'gkdiving', 'gkhandling', 'gkkicking',\n",
       "       'gkpositioning', 'gkreflexes', 'headingaccuracy', 'interceptions',\n",
       "       'jumping', 'longpassing', 'longshots', 'marking', 'penalties',\n",
       "       'positioning', 'potential', 'reactions', 'shortpassing', 'shotpower',\n",
       "       'slidingtackle', 'sprintspeed', 'standingtackle', 'stamina', 'strength',\n",
       "       'vision', 'volleys', 'weakFoot', 'isGK', 'positionFull'],\n",
       "      dtype='object')"
      ]
     },
     "execution_count": 5,
     "metadata": {},
     "output_type": "execute_result"
    }
   ],
   "source": [
    "df.keys()"
   ]
  },
  {
   "cell_type": "markdown",
   "metadata": {},
   "source": [
    "The network is trained with \"Position_num\" as our actual position values as per our Data Set."
   ]
  },
  {
   "cell_type": "code",
   "execution_count": 6,
   "metadata": {},
   "outputs": [],
   "source": [
    "ytrain=np.array(df['position_num'])\n",
    "\n",
    "df[['foot']] = df[['foot']].replace(['Right'],1)\n",
    "df[['foot']] = df[['foot']].replace(['Left'],2)"
   ]
  },
  {
   "cell_type": "markdown",
   "metadata": {},
   "source": [
    "This depicts all the parameters which will be trained on our Classifiers.\n"
   ]
  },
  {
   "cell_type": "code",
   "execution_count": 7,
   "metadata": {
    "collapsed": true
   },
   "outputs": [],
   "source": [
    "xtrain0=df[['height', 'weight', 'acceleration',\n",
    "       'aggression', 'agility', 'balance', 'ballcontrol', 'skillMoves',\n",
    "       'crossing', 'curve', 'dribbling', 'finishing', 'freekickaccuracy', 'foot',\n",
    "       'gkdiving', 'gkhandling', 'gkkicking', 'gkpositioning', 'gkreflexes',\n",
    "       'headingaccuracy', 'interceptions', 'jumping', 'longpassing',\n",
    "       'longshots', 'marking', 'penalties', 'positioning', 'potential',\n",
    "       'reactions', 'shortpassing', 'shotpower', 'slidingtackle',\n",
    "       'sprintspeed', 'standingtackle', 'stamina', 'strength', 'vision',\n",
    "       'volleys', 'weakFoot','isGK']]\n",
    "\n"
   ]
  },
  {
   "cell_type": "code",
   "execution_count": 8,
   "metadata": {
    "collapsed": true
   },
   "outputs": [],
   "source": [
    "from sklearn.preprocessing import scale\n",
    "xtrain = scale(xtrain0)"
   ]
  },
  {
   "cell_type": "markdown",
   "metadata": {},
   "source": [
    "We will now segregate our dataset into training data and test data."
   ]
  },
  {
   "cell_type": "code",
   "execution_count": 41,
   "metadata": {
    "collapsed": true
   },
   "outputs": [],
   "source": [
    "x_tr = xtrain[:7000]\n",
    "y_tr = ytrain[:7000]"
   ]
  },
  {
   "cell_type": "code",
   "execution_count": 42,
   "metadata": {
    "collapsed": true
   },
   "outputs": [],
   "source": [
    "x_ts = xtrain [7000:]\n",
    "y_ts = ytrain [7000:]"
   ]
  },
  {
   "cell_type": "markdown",
   "metadata": {},
   "source": [
    "# Logistic Regression Classifier\n",
    "Applying our first Machine Learning Classifier- Logistic Regression."
   ]
  },
  {
   "cell_type": "code",
   "execution_count": 43,
   "metadata": {
    "collapsed": true
   },
   "outputs": [],
   "source": [
    "from sklearn import linear_model"
   ]
  },
  {
   "cell_type": "code",
   "execution_count": 44,
   "metadata": {},
   "outputs": [
    {
     "data": {
      "text/plain": [
       "LogisticRegression(C=0.1, class_weight=None, dual=False, fit_intercept=True,\n",
       "          intercept_scaling=1, max_iter=100, multi_class='ovr', n_jobs=1,\n",
       "          penalty='l1', random_state=None, solver='liblinear', tol=0.0001,\n",
       "          verbose=0, warm_start=False)"
      ]
     },
     "execution_count": 44,
     "metadata": {},
     "output_type": "execute_result"
    }
   ],
   "source": [
    "logreg = linear_model.LogisticRegression(C=0.1,penalty='l1')\n",
    "logreg.fit(x_tr,y_tr)"
   ]
  },
  {
   "cell_type": "markdown",
   "metadata": {},
   "source": [
    "After fitting our trainable data, we now run our classifier on test data and measure our Accuracy:"
   ]
  },
  {
   "cell_type": "code",
   "execution_count": 45,
   "metadata": {},
   "outputs": [
    {
     "data": {
      "text/plain": [
       "0.66711105185975206"
      ]
     },
     "execution_count": 45,
     "metadata": {},
     "output_type": "execute_result"
    }
   ],
   "source": [
    "yhat = logreg.predict(x_ts)\n",
    "np.mean(yhat == y_ts)"
   ]
  },
  {
   "cell_type": "markdown",
   "metadata": {},
   "source": [
    "The plot here depicts:-\n",
    "\n",
    "X axis: total number of parameters.\n",
    "\n",
    "Y axis: total number of classes."
   ]
  },
  {
   "cell_type": "code",
   "execution_count": 46,
   "metadata": {},
   "outputs": [
    {
     "data": {
      "text/plain": [
       "<matplotlib.image.AxesImage at 0x199da186828>"
      ]
     },
     "execution_count": 46,
     "metadata": {},
     "output_type": "execute_result"
    },
    {
     "data": {
      "image/png": "[encoded data removed]",
      "text/plain": [
       "<matplotlib.figure.Figure at 0x199ddae3470>"
      ]
     },
     "metadata": {},
     "output_type": "display_data"
    }
   ],
   "source": [
    "w = logreg.coef_\n",
    "wsum = np.sum(w**2,axis=0)\n",
    "plt.imshow(np.abs(w))"
   ]
  },
  {
   "cell_type": "code",
   "execution_count": 47,
   "metadata": {},
   "outputs": [
    {
     "data": {
      "text/plain": [
       "[<matplotlib.lines.Line2D at 0x199da1c54a8>]"
      ]
     },
     "execution_count": 47,
     "metadata": {},
     "output_type": "execute_result"
    },
    {
     "data": {
      "image/png": "[encoded data removed]",
      "text/plain": [
       "<matplotlib.figure.Figure at 0x199da192048>"
      ]
     },
     "metadata": {},
     "output_type": "display_data"
    }
   ],
   "source": [
    "w = logreg.coef_\n",
    "wsum = np.sum(w**2,axis=0)\n",
    "plt.plot(wsum)"
   ]
  },
  {
   "cell_type": "code",
   "execution_count": 48,
   "metadata": {},
   "outputs": [
    {
     "data": {
      "text/plain": [
       "array([  3.05240765e-01,   1.71602099e-02,   1.73639102e+00,\n",
       "         7.00453396e-01,   1.91275088e-03,   3.17568847e-02,\n",
       "         6.22758636e-01,   7.08668283e-01,   1.94479223e+01,\n",
       "         9.74542057e-02,   3.12864938e+00,   8.28920565e+00,\n",
       "         2.56004481e-01,   8.22742266e+00,   1.11786864e-01,\n",
       "         4.40062602e-01,   2.40723455e-02,   4.78501386e-01,\n",
       "         5.90223236e-01,   5.82290294e+00,   2.73577781e+00,\n",
       "         3.08840643e-01,   4.55554730e+00,   5.28820059e-01,\n",
       "         8.33840725e+00,   8.08614920e-02,   1.19493158e+00,\n",
       "         3.45602865e+00,   1.50477441e+00,   3.17115898e+00,\n",
       "         2.39539968e-02,   7.15676775e+00,   2.39717299e+00,\n",
       "         2.00766333e+00,   1.31857903e+00,   6.16240660e-01,\n",
       "         6.77103584e+00,   6.49595398e-01,   9.57004068e-02,\n",
       "         7.27846085e-01])"
      ]
     },
     "execution_count": 48,
     "metadata": {},
     "output_type": "execute_result"
    }
   ],
   "source": [
    "wsum"
   ]
  },
  {
   "cell_type": "code",
   "execution_count": 49,
   "metadata": {
    "collapsed": true
   },
   "outputs": [],
   "source": [
    "\n",
    "keys_1 = []\n",
    "ind = np.argsort(wsum)\n",
    "ind = ind[-10:]\n"
   ]
  },
  {
   "cell_type": "code",
   "execution_count": 55,
   "metadata": {
    "collapsed": true
   },
   "outputs": [],
   "source": [
    "keys = ['height', 'weight', 'acceleration', 'aggression', 'agility',\n",
    "       'balance', 'ballcontrol', 'skillMoves', 'crossing', 'curve',\n",
    "       'dribbling', 'finishing', 'freekickaccuracy','foot', 'gkdiving',\n",
    "       'gkhandling', 'gkkicking', 'gkpositioning', 'gkreflexes',\n",
    "       'headingaccuracy', 'interceptions', 'jumping', 'longpassing',\n",
    "       'longshots', 'marking', 'penalties', 'positioning', 'potential',\n",
    "       'reactions', 'shortpassing', 'shotpower', 'slidingtackle',\n",
    "       'sprintspeed', 'standingtackle', 'stamina', 'strength', 'vision',\n",
    "       'volleys', 'weakFoot', 'isGK'] "
   ]
  },
  {
   "cell_type": "markdown",
   "metadata": {},
   "source": [
    "Now we reduce our input parameters and again train on logistic classifier in order to achieve higher accuracy..\n",
    "We select the keys which contribute most to our predictor"
   ]
  },
  {
   "cell_type": "code",
   "execution_count": 56,
   "metadata": {
    "collapsed": true
   },
   "outputs": [],
   "source": [
    "for i in ind:\n",
    "    keys_1.append(keys[i])"
   ]
  },
  {
   "cell_type": "code",
   "execution_count": 57,
   "metadata": {},
   "outputs": [
    {
     "data": {
      "text/plain": [
       "['shotpower',\n",
       " 'reactions',\n",
       " 'longshots',\n",
       " 'interceptions',\n",
       " 'volleys',\n",
       " 'sprintspeed',\n",
       " 'gkdiving',\n",
       " 'finishing',\n",
       " 'penalties',\n",
       " 'crossing',\n",
       " 'shortpassing',\n",
       " 'potential',\n",
       " 'longpassing',\n",
       " 'headingaccuracy',\n",
       " 'vision',\n",
       " 'slidingtackle',\n",
       " 'foot',\n",
       " 'finishing',\n",
       " 'marking',\n",
       " 'crossing']"
      ]
     },
     "execution_count": 57,
     "metadata": {},
     "output_type": "execute_result"
    }
   ],
   "source": [
    "keys_1"
   ]
  },
  {
   "cell_type": "code",
   "execution_count": 58,
   "metadata": {
    "collapsed": true
   },
   "outputs": [],
   "source": [
    "xtrain1 = df[keys_1]"
   ]
  },
  {
   "cell_type": "code",
   "execution_count": 59,
   "metadata": {
    "collapsed": true
   },
   "outputs": [],
   "source": [
    "xtrain_new = scale(xtrain1)"
   ]
  },
  {
   "cell_type": "code",
   "execution_count": 60,
   "metadata": {
    "collapsed": true
   },
   "outputs": [],
   "source": [
    "x_tr_1 = xtrain_new[:7000]\n",
    "y_tr_1 = ytrain[:7000]\n",
    "x_ts_1 = xtrain_new [7000:]\n",
    "y_ts_1 = ytrain [7000:]"
   ]
  },
  {
   "cell_type": "code",
   "execution_count": 61,
   "metadata": {},
   "outputs": [
    {
     "data": {
      "text/plain": [
       "LogisticRegression(C=0.1, class_weight=None, dual=False, fit_intercept=True,\n",
       "          intercept_scaling=1, max_iter=100, multi_class='ovr', n_jobs=1,\n",
       "          penalty='l1', random_state=None, solver='liblinear', tol=0.0001,\n",
       "          verbose=0, warm_start=False)"
      ]
     },
     "execution_count": 61,
     "metadata": {},
     "output_type": "execute_result"
    }
   ],
   "source": [
    "logreg = linear_model.LogisticRegression(C=0.1,penalty='l1')\n",
    "logreg.fit(x_tr_1,y_tr_1)"
   ]
  },
  {
   "cell_type": "code",
   "execution_count": 62,
   "metadata": {},
   "outputs": [
    {
     "data": {
      "text/plain": [
       "0.66204506065857882"
      ]
     },
     "execution_count": 62,
     "metadata": {},
     "output_type": "execute_result"
    }
   ],
   "source": [
    "yhat_1 = logreg.predict(x_ts_1)\n",
    "np.mean(yhat_1 == y_ts_1)"
   ]
  },
  {
   "cell_type": "markdown",
   "metadata": {},
   "source": [
    "After training our classifier and checking our accuracy, we analyzed that even after reducing our input sets, \n",
    "the predictor couldn't improvise much.\n",
    "We can infer by saying, the number of attributes haven't caused overfitting.\n",
    "the logistic classifier was efficient , but couldn't predict 15 classes."
   ]
  },
  {
   "cell_type": "code",
   "execution_count": 63,
   "metadata": {},
   "outputs": [
    {
     "data": {
      "text/plain": [
       "<matplotlib.image.AxesImage at 0x199da20c588>"
      ]
     },
     "execution_count": 63,
     "metadata": {},
     "output_type": "execute_result"
    },
    {
     "data": {
      "image/png": "[encoded data removed]",
      "text/plain": [
       "<matplotlib.figure.Figure at 0x199da192198>"
      ]
     },
     "metadata": {},
     "output_type": "display_data"
    }
   ],
   "source": [
    "w = logreg.coef_\n",
    "wsum = np.sum(w**2,axis=0)\n",
    "plt.imshow(np.abs(w))"
   ]
  },
  {
   "cell_type": "code",
   "execution_count": 64,
   "metadata": {},
   "outputs": [
    {
     "data": {
      "text/plain": [
       "[<matplotlib.lines.Line2D at 0x199da246e80>]"
      ]
     },
     "execution_count": 64,
     "metadata": {},
     "output_type": "execute_result"
    },
    {
     "data": {
      "image/png": "[encoded data removed]",
      "text/plain": [
       "<matplotlib.figure.Figure at 0x199da1c5c18>"
      ]
     },
     "metadata": {},
     "output_type": "display_data"
    }
   ],
   "source": [
    "plt.plot(wsum)"
   ]
  },
  {
   "cell_type": "markdown",
   "metadata": {},
   "source": [
    "# Neural Network classifier\n",
    "\n",
    "After getting redundant results on Logistic Classifier, we now thought of introducing Neural Network on our datasets.\n",
    "\n",
    "We now train our reduced input parameters with a new Neural Network."
   ]
  },
  {
   "cell_type": "code",
   "execution_count": 65,
   "metadata": {},
   "outputs": [
    {
     "data": {
      "text/plain": [
       "MLPClassifier(activation='relu', alpha=1e-05, batch_size='auto', beta_1=0.9,\n",
       "       beta_2=0.999, early_stopping=False, epsilon=1e-08,\n",
       "       hidden_layer_sizes=(5, 2), learning_rate='constant',\n",
       "       learning_rate_init=0.001, max_iter=200, momentum=0.9,\n",
       "       nesterovs_momentum=True, power_t=0.5, random_state=1, shuffle=True,\n",
       "       solver='lbfgs', tol=0.0001, validation_fraction=0.1, verbose=False,\n",
       "       warm_start=False)"
      ]
     },
     "execution_count": 65,
     "metadata": {},
     "output_type": "execute_result"
    }
   ],
   "source": [
    "from sklearn.neural_network import MLPClassifier\n",
    "clf = MLPClassifier(solver='lbfgs', alpha = 1e-05, hidden_layer_sizes = (5,2),random_state=1)\n",
    "clf.fit(x_tr,y_tr)"
   ]
  },
  {
   "cell_type": "code",
   "execution_count": 66,
   "metadata": {
    "collapsed": true
   },
   "outputs": [],
   "source": [
    "yhat = clf.predict(x_ts)"
   ]
  },
  {
   "cell_type": "code",
   "execution_count": 67,
   "metadata": {},
   "outputs": [
    {
     "data": {
      "text/plain": [
       "0.62031729102786293"
      ]
     },
     "execution_count": 67,
     "metadata": {},
     "output_type": "execute_result"
    }
   ],
   "source": [
    "acc = np.mean(yhat==y_ts)\n",
    "acc"
   ]
  },
  {
   "cell_type": "markdown",
   "metadata": {},
   "source": [
    "# New Approach\n",
    "\n",
    "Even after running the Neural Network, we end up getting the same accuracy.\n",
    "\n",
    "Therefore, we try a new approach:\n",
    "\n",
    "With already reduced input datasets, we now reduce the number of classes from 15 to just 4.\n",
    "\n",
    "Classes:\n",
    "1) Forwards\n",
    "2) Midfielders\n",
    "3) Defenders\n",
    "4) Goalkeepers\n",
    "\n",
    "We now apply the reduced classes concept on to our Logistic classifier and Neural Network."
   ]
  },
  {
   "cell_type": "code",
   "execution_count": 69,
   "metadata": {
    "collapsed": true
   },
   "outputs": [],
   "source": [
    "df[['position_num']] = df[['position_num']].replace([1,2,3,7],1)\n",
    "df[['position_num']] = df[['position_num']].replace([8,9,10,11,13],2)\n",
    "df[['position_num']] = df[['position_num']].replace([4,5,12,14,15],3)"
   ]
  },
  {
   "cell_type": "code",
   "execution_count": 70,
   "metadata": {
    "collapsed": true
   },
   "outputs": [],
   "source": [
    "ytrain=np.array(df['position_num'])"
   ]
  },
  {
   "cell_type": "code",
   "execution_count": 71,
   "metadata": {
    "collapsed": true
   },
   "outputs": [],
   "source": [
    "x_tr = xtrain[:7000]\n",
    "y_tr = ytrain[:7000]\n",
    "x_ts = xtrain[7000:]\n",
    "y_ts = ytrain[7000:]"
   ]
  },
  {
   "cell_type": "code",
   "execution_count": 72,
   "metadata": {},
   "outputs": [
    {
     "data": {
      "text/plain": [
       "LogisticRegression(C=0.1, class_weight=None, dual=False, fit_intercept=True,\n",
       "          intercept_scaling=1, max_iter=100, multi_class='ovr', n_jobs=1,\n",
       "          penalty='l1', random_state=None, solver='liblinear', tol=0.0001,\n",
       "          verbose=0, warm_start=False)"
      ]
     },
     "execution_count": 72,
     "metadata": {},
     "output_type": "execute_result"
    }
   ],
   "source": [
    "logreg = linear_model.LogisticRegression(C=0.1,penalty='l1')\n",
    "logreg.fit(x_tr,y_tr)"
   ]
  },
  {
   "cell_type": "code",
   "execution_count": 73,
   "metadata": {},
   "outputs": [
    {
     "data": {
      "text/plain": [
       "0.87055059325423279"
      ]
     },
     "execution_count": 73,
     "metadata": {},
     "output_type": "execute_result"
    }
   ],
   "source": [
    "yhat = logreg.predict(x_ts)\n",
    "np.mean(yhat == y_ts)"
   ]
  },
  {
   "cell_type": "markdown",
   "metadata": {},
   "source": [
    "Analysis: On reducing our classes, we found that the Logistic Classifier could classify even better with 87% accuracy."
   ]
  },
  {
   "cell_type": "code",
   "execution_count": 74,
   "metadata": {
    "collapsed": true
   },
   "outputs": [],
   "source": [
    "df['c'] = df.apply(lambda row: row.height**2//row.weight, axis=1)"
   ]
  },
  {
   "cell_type": "code",
   "execution_count": 79,
   "metadata": {},
   "outputs": [
    {
     "data": {
      "text/plain": [
       "0.87713841368584755"
      ]
     },
     "execution_count": 79,
     "metadata": {},
     "output_type": "execute_result"
    }
   ],
   "source": [
    "xtrain0=df[['height', 'weight', 'acceleration',\n",
    "       'aggression', 'agility', 'balance', 'ballcontrol', 'skillMoves',\n",
    "       'crossing', 'curve', 'dribbling', 'finishing', 'freekickaccuracy', 'foot',\n",
    "       'gkdiving', 'gkhandling', 'gkkicking', 'gkpositioning', 'gkreflexes',\n",
    "       'headingaccuracy', 'interceptions', 'jumping', 'longpassing',\n",
    "       'longshots', 'marking', 'penalties', 'positioning', 'potential',\n",
    "       'reactions', 'shortpassing', 'shotpower', 'slidingtackle',\n",
    "       'sprintspeed', 'standingtackle', 'stamina', 'strength', 'vision',\n",
    "       'volleys', 'weakFoot','isGK','c']]\n",
    "xtrain = scale(xtrain0)\n",
    "x_tr = xtrain[:10000]\n",
    "y_tr = ytrain[:10000]\n",
    "x_ts = xtrain[10000:]\n",
    "y_ts = ytrain[10000:]\n",
    "logreg = linear_model.LogisticRegression(C=0.1,penalty='l1')\n",
    "logreg.fit(x_tr,y_tr)\n",
    "yhat = logreg.predict(x_ts)\n",
    "np.mean(yhat == y_ts)"
   ]
  },
  {
   "cell_type": "code",
   "execution_count": 76,
   "metadata": {},
   "outputs": [
    {
     "data": {
      "text/plain": [
       "MLPClassifier(activation='relu', alpha=1e-05, batch_size='auto', beta_1=0.9,\n",
       "       beta_2=0.999, early_stopping=False, epsilon=1e-08,\n",
       "       hidden_layer_sizes=(5, 2), learning_rate='constant',\n",
       "       learning_rate_init=0.001, max_iter=200, momentum=0.9,\n",
       "       nesterovs_momentum=True, power_t=0.5, random_state=1, shuffle=True,\n",
       "       solver='lbfgs', tol=0.0001, validation_fraction=0.1, verbose=False,\n",
       "       warm_start=False)"
      ]
     },
     "execution_count": 76,
     "metadata": {},
     "output_type": "execute_result"
    }
   ],
   "source": [
    "from sklearn.neural_network import MLPClassifier\n",
    "clf = MLPClassifier(solver='lbfgs', alpha = 1e-05, hidden_layer_sizes = (5,2),random_state=1)\n",
    "clf.fit(x_tr,y_tr)"
   ]
  },
  {
   "cell_type": "code",
   "execution_count": 77,
   "metadata": {
    "collapsed": true
   },
   "outputs": [],
   "source": [
    "yhat = clf.predict(x_ts)"
   ]
  },
  {
   "cell_type": "code",
   "execution_count": 78,
   "metadata": {},
   "outputs": [
    {
     "data": {
      "text/plain": [
       "0.82868950806559127"
      ]
     },
     "execution_count": 78,
     "metadata": {},
     "output_type": "execute_result"
    }
   ],
   "source": [
    "acc = np.mean(yhat==y_ts)\n",
    "acc"
   ]
  },
  {
   "cell_type": "markdown",
   "metadata": {},
   "source": [
    "Analysis: With the same reduced classes dataset, even Neural Network Classifier got a very improved accuracy of 82%.\n",
    "    "
   ]
  },
  {
   "cell_type": "code",
   "execution_count": null,
   "metadata": {
    "collapsed": true
   },
   "outputs": [],
   "source": []
  }
 ],
 "metadata": {
  "kernelspec": {
   "display_name": "Python 3",
   "language": "python",
   "name": "python3"
  },
  "language_info": {
   "codemirror_mode": {
    "name": "ipython",
    "version": 3
   },
   "file_extension": ".py",
   "mimetype": "text/x-python",
   "name": "python",
   "nbconvert_exporter": "python",
   "pygments_lexer": "ipython3",
   "version": "3.6.1"
  }
 },
 "nbformat": 4,
 "nbformat_minor": 2
}
