{
 "cells": [
  {
   "cell_type": "code",
   "execution_count": 5,
   "metadata": {},
   "outputs": [],
   "source": [
    "import pandas as pd\n",
    "import numpy as np\n",
    "import matplotlib\n",
    "import matplotlib.pyplot as plt\n",
    "%matplotlib inline"
   ]
  },
  {
   "cell_type": "code",
   "execution_count": 6,
   "metadata": {},
   "outputs": [],
   "source": [
    "df = pd.read_csv('FUT17Players.csv', header=0,delim_whitespace=False,na_values='?',index_col=None)\n"
   ]
  },
  {
   "cell_type": "code",
   "execution_count": 7,
   "metadata": {},
   "outputs": [
    {
     "data": {
      "text/html": [
       "<div>\n",
       "<style>\n",
       "    .dataframe thead tr:only-child th {\n",
       "        text-align: right;\n",
       "    }\n",
       "\n",
       "    .dataframe thead th {\n",
       "        text-align: left;\n",
       "    }\n",
       "\n",
       "    .dataframe tbody tr th {\n",
       "        vertical-align: top;\n",
       "    }\n",
       "</style>\n",
       "<table border=\"1\" class=\"dataframe\">\n",
       "  <thead>\n",
       "    <tr style=\"text-align: right;\">\n",
       "      <th></th>\n",
       "      <th>firstName</th>\n",
       "      <th>lastName</th>\n",
       "      <th>position</th>\n",
       "      <th>position_num</th>\n",
       "      <th>height</th>\n",
       "      <th>weight</th>\n",
       "      <th>acceleration</th>\n",
       "      <th>aggression</th>\n",
       "      <th>agility</th>\n",
       "      <th>balance</th>\n",
       "      <th>...</th>\n",
       "      <th>slidingtackle</th>\n",
       "      <th>sprintspeed</th>\n",
       "      <th>standingtackle</th>\n",
       "      <th>stamina</th>\n",
       "      <th>strength</th>\n",
       "      <th>vision</th>\n",
       "      <th>volleys</th>\n",
       "      <th>weakFoot</th>\n",
       "      <th>isGK</th>\n",
       "      <th>positionFull</th>\n",
       "    </tr>\n",
       "  </thead>\n",
       "  <tbody>\n",
       "    <tr>\n",
       "      <th>0</th>\n",
       "      <td>Edson</td>\n",
       "      <td>Arantes Nascimento</td>\n",
       "      <td>CF</td>\n",
       "      <td>1</td>\n",
       "      <td>174</td>\n",
       "      <td>70</td>\n",
       "      <td>95</td>\n",
       "      <td>55</td>\n",
       "      <td>94</td>\n",
       "      <td>94</td>\n",
       "      <td>...</td>\n",
       "      <td>42</td>\n",
       "      <td>95</td>\n",
       "      <td>46</td>\n",
       "      <td>88</td>\n",
       "      <td>71</td>\n",
       "      <td>96</td>\n",
       "      <td>90</td>\n",
       "      <td>4</td>\n",
       "      <td>0</td>\n",
       "      <td>Centre Forward</td>\n",
       "    </tr>\n",
       "    <tr>\n",
       "      <th>1</th>\n",
       "      <td>C. Ronaldo</td>\n",
       "      <td>dos Santos Aveiro</td>\n",
       "      <td>LW</td>\n",
       "      <td>2</td>\n",
       "      <td>185</td>\n",
       "      <td>80</td>\n",
       "      <td>91</td>\n",
       "      <td>63</td>\n",
       "      <td>90</td>\n",
       "      <td>63</td>\n",
       "      <td>...</td>\n",
       "      <td>23</td>\n",
       "      <td>92</td>\n",
       "      <td>31</td>\n",
       "      <td>92</td>\n",
       "      <td>80</td>\n",
       "      <td>85</td>\n",
       "      <td>88</td>\n",
       "      <td>4</td>\n",
       "      <td>0</td>\n",
       "      <td>Left Wing</td>\n",
       "    </tr>\n",
       "    <tr>\n",
       "      <th>2</th>\n",
       "      <td>Lionel</td>\n",
       "      <td>Messi</td>\n",
       "      <td>RW</td>\n",
       "      <td>3</td>\n",
       "      <td>170</td>\n",
       "      <td>72</td>\n",
       "      <td>92</td>\n",
       "      <td>48</td>\n",
       "      <td>90</td>\n",
       "      <td>95</td>\n",
       "      <td>...</td>\n",
       "      <td>26</td>\n",
       "      <td>87</td>\n",
       "      <td>28</td>\n",
       "      <td>74</td>\n",
       "      <td>59</td>\n",
       "      <td>90</td>\n",
       "      <td>85</td>\n",
       "      <td>4</td>\n",
       "      <td>0</td>\n",
       "      <td>Right Wing</td>\n",
       "    </tr>\n",
       "    <tr>\n",
       "      <th>3</th>\n",
       "      <td>Franz</td>\n",
       "      <td>Beckenbauer</td>\n",
       "      <td>CB</td>\n",
       "      <td>4</td>\n",
       "      <td>181</td>\n",
       "      <td>75</td>\n",
       "      <td>83</td>\n",
       "      <td>63</td>\n",
       "      <td>80</td>\n",
       "      <td>66</td>\n",
       "      <td>...</td>\n",
       "      <td>91</td>\n",
       "      <td>81</td>\n",
       "      <td>96</td>\n",
       "      <td>85</td>\n",
       "      <td>86</td>\n",
       "      <td>82</td>\n",
       "      <td>64</td>\n",
       "      <td>3</td>\n",
       "      <td>0</td>\n",
       "      <td>Centre Back</td>\n",
       "    </tr>\n",
       "    <tr>\n",
       "      <th>4</th>\n",
       "      <td>Paolo</td>\n",
       "      <td>Maldini</td>\n",
       "      <td>LB</td>\n",
       "      <td>5</td>\n",
       "      <td>187</td>\n",
       "      <td>85</td>\n",
       "      <td>87</td>\n",
       "      <td>66</td>\n",
       "      <td>65</td>\n",
       "      <td>69</td>\n",
       "      <td>...</td>\n",
       "      <td>94</td>\n",
       "      <td>85</td>\n",
       "      <td>96</td>\n",
       "      <td>84</td>\n",
       "      <td>84</td>\n",
       "      <td>68</td>\n",
       "      <td>65</td>\n",
       "      <td>4</td>\n",
       "      <td>0</td>\n",
       "      <td>Left Back</td>\n",
       "    </tr>\n",
       "    <tr>\n",
       "      <th>5</th>\n",
       "      <td>Franco</td>\n",
       "      <td>Baresi</td>\n",
       "      <td>CB</td>\n",
       "      <td>4</td>\n",
       "      <td>176</td>\n",
       "      <td>70</td>\n",
       "      <td>77</td>\n",
       "      <td>79</td>\n",
       "      <td>75</td>\n",
       "      <td>84</td>\n",
       "      <td>...</td>\n",
       "      <td>92</td>\n",
       "      <td>75</td>\n",
       "      <td>96</td>\n",
       "      <td>91</td>\n",
       "      <td>79</td>\n",
       "      <td>68</td>\n",
       "      <td>41</td>\n",
       "      <td>3</td>\n",
       "      <td>0</td>\n",
       "      <td>Centre Back</td>\n",
       "    </tr>\n",
       "  </tbody>\n",
       "</table>\n",
       "<p>6 rows × 45 columns</p>\n",
       "</div>"
      ],
      "text/plain": [
       "    firstName            lastName position  position_num  height  weight  \\\n",
       "0       Edson  Arantes Nascimento       CF             1     174      70   \n",
       "1  C. Ronaldo   dos Santos Aveiro       LW             2     185      80   \n",
       "2      Lionel               Messi       RW             3     170      72   \n",
       "3       Franz         Beckenbauer       CB             4     181      75   \n",
       "4       Paolo             Maldini       LB             5     187      85   \n",
       "5      Franco              Baresi       CB             4     176      70   \n",
       "\n",
       "   acceleration  aggression  agility  balance       ...        slidingtackle  \\\n",
       "0            95          55       94       94       ...                   42   \n",
       "1            91          63       90       63       ...                   23   \n",
       "2            92          48       90       95       ...                   26   \n",
       "3            83          63       80       66       ...                   91   \n",
       "4            87          66       65       69       ...                   94   \n",
       "5            77          79       75       84       ...                   92   \n",
       "\n",
       "  sprintspeed  standingtackle  stamina  strength  vision  volleys  weakFoot  \\\n",
       "0          95              46       88        71      96       90         4   \n",
       "1          92              31       92        80      85       88         4   \n",
       "2          87              28       74        59      90       85         4   \n",
       "3          81              96       85        86      82       64         3   \n",
       "4          85              96       84        84      68       65         4   \n",
       "5          75              96       91        79      68       41         3   \n",
       "\n",
       "   isGK    positionFull  \n",
       "0     0  Centre Forward  \n",
       "1     0       Left Wing  \n",
       "2     0      Right Wing  \n",
       "3     0     Centre Back  \n",
       "4     0       Left Back  \n",
       "5     0     Centre Back  \n",
       "\n",
       "[6 rows x 45 columns]"
      ]
     },
     "execution_count": 7,
     "metadata": {},
     "output_type": "execute_result"
    }
   ],
   "source": [
    "df.head(6)"
   ]
  },
  {
   "cell_type": "code",
   "execution_count": 8,
   "metadata": {},
   "outputs": [
    {
     "data": {
      "text/plain": [
       "Index(['firstName', 'lastName', 'position', 'position_num', 'height', 'weight',\n",
       "       'acceleration', 'aggression', 'agility', 'balance', 'ballcontrol',\n",
       "       'foot', 'skillMoves', 'crossing', 'curve', 'dribbling', 'finishing',\n",
       "       'freekickaccuracy', 'gkdiving', 'gkhandling', 'gkkicking',\n",
       "       'gkpositioning', 'gkreflexes', 'headingaccuracy', 'interceptions',\n",
       "       'jumping', 'longpassing', 'longshots', 'marking', 'penalties',\n",
       "       'positioning', 'potential', 'reactions', 'shortpassing', 'shotpower',\n",
       "       'slidingtackle', 'sprintspeed', 'standingtackle', 'stamina', 'strength',\n",
       "       'vision', 'volleys', 'weakFoot', 'isGK', 'positionFull'],\n",
       "      dtype='object')"
      ]
     },
     "execution_count": 8,
     "metadata": {},
     "output_type": "execute_result"
    }
   ],
   "source": [
    "df.keys()"
   ]
  },
  {
   "cell_type": "code",
   "execution_count": 9,
   "metadata": {},
   "outputs": [],
   "source": [
    "ytrain=np.array(df['position_num'])"
   ]
  },
  {
   "cell_type": "code",
   "execution_count": 10,
   "metadata": {},
   "outputs": [],
   "source": [
    "xtrain0=df[['height', 'weight', 'acceleration',\n",
    "       'aggression', 'agility', 'balance', 'ballcontrol', 'skillMoves',\n",
    "       'crossing', 'curve', 'dribbling', 'finishing', 'freekickaccuracy',\n",
    "       'gkdiving', 'gkhandling', 'gkkicking', 'gkpositioning', 'gkreflexes',\n",
    "       'headingaccuracy', 'interceptions', 'jumping', 'longpassing',\n",
    "       'longshots', 'marking', 'penalties', 'positioning', 'potential',\n",
    "       'reactions', 'shortpassing', 'shotpower', 'slidingtackle',\n",
    "       'sprintspeed', 'standingtackle', 'stamina', 'strength', 'vision',\n",
    "       'volleys', 'weakFoot','isGK']]\n",
    "\n"
   ]
  },
  {
   "cell_type": "code",
   "execution_count": 11,
   "metadata": {},
   "outputs": [],
   "source": [
    "from sklearn.preprocessing import scale\n",
    "xtrain = scale(xtrain0)"
   ]
  },
  {
   "cell_type": "code",
   "execution_count": 12,
   "metadata": {},
   "outputs": [],
   "source": [
    "x_tr = xtrain[:7000]\n",
    "y_tr = ytrain[:7000]"
   ]
  },
  {
   "cell_type": "code",
   "execution_count": 13,
   "metadata": {},
   "outputs": [],
   "source": [
    "x_ts = xtrain [7000:]\n",
    "y_ts = ytrain [7000:]"
   ]
  },
  {
   "cell_type": "code",
   "execution_count": 135,
   "metadata": {},
   "outputs": [],
   "source": [
    "from sklearn import linear_model"
   ]
  },
  {
   "cell_type": "code",
   "execution_count": 136,
   "metadata": {},
   "outputs": [
    {
     "data": {
      "text/plain": [
       "LogisticRegression(C=0.1, class_weight=None, dual=False, fit_intercept=True,\n",
       "          intercept_scaling=1, max_iter=100, multi_class='ovr', n_jobs=1,\n",
       "          penalty='l1', random_state=None, solver='liblinear', tol=0.0001,\n",
       "          verbose=0, warm_start=False)"
      ]
     },
     "execution_count": 136,
     "metadata": {},
     "output_type": "execute_result"
    }
   ],
   "source": [
    "logreg = linear_model.LogisticRegression(C=0.1,penalty='l1')\n",
    "logreg.fit(x_tr,y_tr)"
   ]
  },
  {
   "cell_type": "code",
   "execution_count": 137,
   "metadata": {},
   "outputs": [
    {
     "data": {
      "text/plain": [
       "0.60751899746700444"
      ]
     },
     "execution_count": 137,
     "metadata": {},
     "output_type": "execute_result"
    }
   ],
   "source": [
    "yhat = logreg.predict(x_ts)\n",
    "np.mean(yhat == y_ts)"
   ]
  },
  {
   "cell_type": "code",
   "execution_count": 138,
   "metadata": {},
   "outputs": [
    {
     "data": {
      "text/plain": [
       "<matplotlib.image.AxesImage at 0x219649dc630>"
      ]
     },
     "execution_count": 138,
     "metadata": {},
     "output_type": "execute_result"
    },
    {
     "data": {
      "image/png": "[encoded data removed]",
      "text/plain": [
       "<matplotlib.figure.Figure at 0x21964dfc550>"
      ]
     },
     "metadata": {},
     "output_type": "display_data"
    }
   ],
   "source": [
    "w = logreg.coef_\n",
    "wsum = np.sum(w**2,axis=0)\n",
    "plt.imshow(np.abs(w))"
   ]
  },
  {
   "cell_type": "code",
   "execution_count": 139,
   "metadata": {},
   "outputs": [
    {
     "data": {
      "text/plain": [
       "[<matplotlib.lines.Line2D at 0x21964a3b898>]"
      ]
     },
     "execution_count": 139,
     "metadata": {},
     "output_type": "execute_result"
    },
    {
     "data": {
      "image/png": "[encoded data removed]",
      "text/plain": [
       "<matplotlib.figure.Figure at 0x219649e69b0>"
      ]
     },
     "metadata": {},
     "output_type": "display_data"
    }
   ],
   "source": [
    "w = logreg.coef_\n",
    "wsum = np.sum(w**2,axis=0)\n",
    "plt.plot(wsum)"
   ]
  },
  {
   "cell_type": "code",
   "execution_count": 140,
   "metadata": {},
   "outputs": [
    {
     "data": {
      "text/plain": [
       "array([  3.14647689e-01,   2.14693171e-02,   1.19262768e+00,\n",
       "         7.71900541e-01,   0.00000000e+00,   3.25811863e-02,\n",
       "         5.85721777e-01,   6.72417564e-01,   1.47115624e+01,\n",
       "         1.85711747e-01,   3.21880043e+00,   8.17623424e+00,\n",
       "         8.59164814e-01,   3.57662499e-01,   3.64881801e-01,\n",
       "         2.66572535e-02,   3.22835887e-01,   3.68511431e-01,\n",
       "         5.76696751e+00,   2.75221070e+00,   3.06954473e-01,\n",
       "         3.66670334e+00,   5.42866154e-01,   7.80473225e+00,\n",
       "         1.65738785e-01,   1.18870525e+00,   3.02187348e+00,\n",
       "         1.50070306e+00,   3.92110901e+00,   1.46418125e-02,\n",
       "         4.75563956e+00,   2.06876240e+00,   1.99246634e+00,\n",
       "         1.39819219e+00,   4.17628099e-01,   6.83563647e+00,\n",
       "         6.97259748e-01,   1.24614940e-01,   7.86410648e-01])"
      ]
     },
     "execution_count": 140,
     "metadata": {},
     "output_type": "execute_result"
    }
   ],
   "source": [
    "wsum"
   ]
  },
  {
   "cell_type": "code",
   "execution_count": 141,
   "metadata": {},
   "outputs": [],
   "source": [
    "\n",
    "keys_1 = []\n",
    "ind = np.argsort(wsum)\n",
    "ind = ind[-10:]\n"
   ]
  },
  {
   "cell_type": "code",
   "execution_count": 142,
   "metadata": {},
   "outputs": [],
   "source": [
    "keys = ['height', 'weight', 'acceleration', 'aggression', 'agility',\n",
    "       'balance', 'ballcontrol', 'skillMoves', 'crossing', 'curve',\n",
    "       'dribbling', 'finishing', 'freekickaccuracy', 'gkdiving',\n",
    "       'gkhandling', 'gkkicking', 'gkpositioning', 'gkreflexes',\n",
    "       'headingaccuracy', 'interceptions', 'jumping', 'longpassing',\n",
    "       'longshots', 'marking', 'penalties', 'positioning', 'potential',\n",
    "       'reactions', 'shortpassing', 'shotpower', 'slidingtackle',\n",
    "       'sprintspeed', 'standingtackle', 'stamina', 'strength', 'vision',\n",
    "       'volleys', 'weakFoot', 'isGK'] "
   ]
  },
  {
   "cell_type": "code",
   "execution_count": 143,
   "metadata": {},
   "outputs": [],
   "source": [
    "for i in ind:\n",
    "    keys_1.append(keys[i])"
   ]
  },
  {
   "cell_type": "code",
   "execution_count": 144,
   "metadata": {},
   "outputs": [
    {
     "data": {
      "text/plain": [
       "['potential',\n",
       " 'dribbling',\n",
       " 'longpassing',\n",
       " 'shortpassing',\n",
       " 'slidingtackle',\n",
       " 'headingaccuracy',\n",
       " 'vision',\n",
       " 'marking',\n",
       " 'finishing',\n",
       " 'crossing']"
      ]
     },
     "execution_count": 144,
     "metadata": {},
     "output_type": "execute_result"
    }
   ],
   "source": [
    "keys_1"
   ]
  },
  {
   "cell_type": "code",
   "execution_count": 145,
   "metadata": {},
   "outputs": [],
   "source": [
    "xtrain1 = df[['potential',\n",
    " 'dribbling',\n",
    " 'longpassing',\n",
    " 'shortpassing',\n",
    " 'slidingtackle',\n",
    " 'headingaccuracy',\n",
    " 'vision',\n",
    " 'marking',\n",
    " 'finishing',\n",
    " 'crossing']]"
   ]
  },
  {
   "cell_type": "code",
   "execution_count": 146,
   "metadata": {},
   "outputs": [],
   "source": [
    "xtrain_new = scale(xtrain1)"
   ]
  },
  {
   "cell_type": "code",
   "execution_count": 147,
   "metadata": {},
   "outputs": [],
   "source": [
    "x_tr_1 = xtrain_new[:7000]\n",
    "y_tr_1 = ytrain[:7000]\n",
    "x_ts_1 = xtrain_new [7000:]\n",
    "y_ts_1 = ytrain [7000:]"
   ]
  },
  {
   "cell_type": "code",
   "execution_count": 148,
   "metadata": {},
   "outputs": [
    {
     "data": {
      "text/plain": [
       "LogisticRegression(C=0.1, class_weight=None, dual=False, fit_intercept=True,\n",
       "          intercept_scaling=1, max_iter=100, multi_class='ovr', n_jobs=1,\n",
       "          penalty='l1', random_state=None, solver='liblinear', tol=0.0001,\n",
       "          verbose=0, warm_start=False)"
      ]
     },
     "execution_count": 148,
     "metadata": {},
     "output_type": "execute_result"
    }
   ],
   "source": [
    "logreg = linear_model.LogisticRegression(C=0.1,penalty='l1')\n",
    "logreg.fit(x_tr_1,y_tr_1)"
   ]
  },
  {
   "cell_type": "code",
   "execution_count": 149,
   "metadata": {},
   "outputs": [
    {
     "data": {
      "text/plain": [
       "0.59992001066524459"
      ]
     },
     "execution_count": 149,
     "metadata": {},
     "output_type": "execute_result"
    }
   ],
   "source": [
    "yhat_1 = logreg.predict(x_ts_1)\n",
    "np.mean(yhat_1 == y_ts_1)"
   ]
  },
  {
   "cell_type": "code",
   "execution_count": 150,
   "metadata": {},
   "outputs": [
    {
     "data": {
      "text/plain": [
       "<matplotlib.image.AxesImage at 0x21964cf2da0>"
      ]
     },
     "execution_count": 150,
     "metadata": {},
     "output_type": "execute_result"
    },
    {
     "data": {
      "image/png": "[encoded data removed]",
      "text/plain": [
       "<matplotlib.figure.Figure at 0x219649f3b38>"
      ]
     },
     "metadata": {},
     "output_type": "display_data"
    }
   ],
   "source": [
    "w = logreg.coef_\n",
    "wsum = np.sum(w**2,axis=0)\n",
    "plt.imshow(np.abs(w))"
   ]
  },
  {
   "cell_type": "code",
   "execution_count": 151,
   "metadata": {},
   "outputs": [
    {
     "data": {
      "text/plain": [
       "[<matplotlib.lines.Line2D at 0x21964d532b0>]"
      ]
     },
     "execution_count": 151,
     "metadata": {},
     "output_type": "execute_result"
    },
    {
     "data": {
      "image/png": "[encoded data removed]",
      "text/plain": [
       "<matplotlib.figure.Figure at 0x21964994978>"
      ]
     },
     "metadata": {},
     "output_type": "display_data"
    }
   ],
   "source": [
    "plt.plot(wsum)"
   ]
  },
  {
   "cell_type": "code",
   "execution_count": 14,
   "metadata": {},
   "outputs": [
    {
     "data": {
      "text/plain": [
       "MLPClassifier(activation='relu', alpha=1e-05, batch_size='auto', beta_1=0.9,\n",
       "       beta_2=0.999, early_stopping=False, epsilon=1e-08,\n",
       "       hidden_layer_sizes=(5, 2), learning_rate='constant',\n",
       "       learning_rate_init=0.001, max_iter=200, momentum=0.9,\n",
       "       nesterovs_momentum=True, power_t=0.5, random_state=1, shuffle=True,\n",
       "       solver='lbfgs', tol=0.0001, validation_fraction=0.1, verbose=False,\n",
       "       warm_start=False)"
      ]
     },
     "execution_count": 14,
     "metadata": {},
     "output_type": "execute_result"
    }
   ],
   "source": [
    "from sklearn.neural_network import MLPClassifier\n",
    "clf = MLPClassifier(solver='lbfgs', alpha = 1e-05, hidden_layer_sizes = (5,2),random_state=1)\n",
    "clf.fit(x_tr,y_tr)"
   ]
  },
  {
   "cell_type": "code",
   "execution_count": 15,
   "metadata": {},
   "outputs": [],
   "source": [
    "yhat = clf.predict(x_ts)"
   ]
  },
  {
   "cell_type": "code",
   "execution_count": 16,
   "metadata": {},
   "outputs": [
    {
     "data": {
      "text/plain": [
       "0.58205572590321286"
      ]
     },
     "execution_count": 16,
     "metadata": {},
     "output_type": "execute_result"
    }
   ],
   "source": [
    "acc = np.mean(yhat==y_ts)\n",
    "acc"
   ]
  },
  {
   "cell_type": "code",
   "execution_count": null,
   "metadata": {},
   "outputs": [],
   "source": []
  }
 ],
 "metadata": {
  "kernelspec": {
   "display_name": "Python 3",
   "language": "python",
   "name": "python3"
  },
  "language_info": {
   "codemirror_mode": {
    "name": "ipython",
    "version": 3
   },
   "file_extension": ".py",
   "mimetype": "text/x-python",
   "name": "python",
   "nbconvert_exporter": "python",
   "pygments_lexer": "ipython3",
   "version": "3.6.3"
  }
 },
 "nbformat": 4,
 "nbformat_minor": 2
}
